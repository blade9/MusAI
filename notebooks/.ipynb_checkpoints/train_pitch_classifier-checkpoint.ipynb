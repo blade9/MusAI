{
 "cells": [
  {
   "cell_type": "code",
   "id": "initial_id",
   "metadata": {
    "collapsed": true,
    "ExecuteTime": {
     "end_time": "2024-12-17T00:57:07.670576Z",
     "start_time": "2024-12-17T00:57:07.668621Z"
    }
   },
   "source": [
    "from scripts.dataset_generator import *\n",
    "import tensorflow as tf"
   ],
   "outputs": [],
   "execution_count": 109
  },
  {
   "metadata": {
    "ExecuteTime": {
     "end_time": "2024-12-17T00:57:08.493853Z",
     "start_time": "2024-12-17T00:57:08.477203Z"
    }
   },
   "cell_type": "code",
   "source": [
    "dataset = create_tf_dataset('../data/extracted_stems/MIDI')\n",
    "print(dataset)"
   ],
   "id": "3e33a1289297d777",
   "outputs": [
    {
     "name": "stdout",
     "output_type": "stream",
     "text": [
      "<_PrefetchDataset element_spec=(TensorSpec(shape=(None, None, None), dtype=tf.float32, name=None), TensorSpec(shape=(None, 128), dtype=tf.int32, name=None))>\n"
     ]
    }
   ],
   "execution_count": 110
  },
  {
   "metadata": {
    "ExecuteTime": {
     "end_time": "2024-12-17T00:57:09.576150Z",
     "start_time": "2024-12-17T00:57:09.573674Z"
    }
   },
   "cell_type": "code",
   "source": [
    "total_samples = 10000  # Replace with the actual count\n",
    "train_size = int(0.7 * total_samples)\n",
    "val_size = int(0.15 * total_samples)\n",
    "test_size = total_samples - train_size - val_size\n",
    "batch_size = 32"
   ],
   "id": "88e9e4e668c7891",
   "outputs": [],
   "execution_count": 111
  },
  {
   "metadata": {
    "ExecuteTime": {
     "end_time": "2024-12-17T00:57:10.622956Z",
     "start_time": "2024-12-17T00:57:10.614232Z"
    }
   },
   "cell_type": "code",
   "source": [
    "dataset = dataset.shuffle(buffer_size=10000, reshuffle_each_iteration=False)\n",
    "\n",
    "train_dataset = dataset.take(train_size)\n",
    "val_dataset = dataset.skip(train_size).take(val_size)\n",
    "test_dataset = dataset.skip(train_size + val_size).take(test_size)\n",
    "\n",
    "train_dataset = train_dataset.batch(batch_size, drop_remainder=True).prefetch(tf.data.AUTOTUNE)\n",
    "val_dataset = val_dataset.batch(batch_size, drop_remainder=True).prefetch(tf.data.AUTOTUNE)\n",
    "test_dataset = test_dataset.batch(batch_size, drop_remainder=True).prefetch(tf.data.AUTOTUNE)"
   ],
   "id": "3e809d7d6c69c00c",
   "outputs": [],
   "execution_count": 112
  },
  {
   "metadata": {
    "ExecuteTime": {
     "end_time": "2024-12-17T00:57:12.615526Z",
     "start_time": "2024-12-17T00:57:12.599138Z"
    }
   },
   "cell_type": "code",
   "source": [
    "def fix_label_shape(spectrogram, label):\n",
    "    label = tf.squeeze(label, axis=1)  # Remove extra dimension\n",
    "    return spectrogram, label\n",
    "\n",
    "train_dataset = train_dataset.map(fix_label_shape)\n",
    "val_dataset = val_dataset.map(fix_label_shape)\n",
    "test_dataset = test_dataset.map(fix_label_shape)"
   ],
   "id": "f1001dcb5dce0bf5",
   "outputs": [],
   "execution_count": 113
  },
  {
   "metadata": {
    "ExecuteTime": {
     "end_time": "2024-12-17T00:57:14.216480Z",
     "start_time": "2024-12-17T00:57:14.123848Z"
    }
   },
   "cell_type": "code",
   "source": [
    "from models.pitch_classifier import build_pitch_classifier_cnn\n",
    "\n",
    "model = build_pitch_classifier_cnn()\n",
    "model.compile(\n",
    "    optimizer=tf.keras.optimizers.Adam(learning_rate=0.001),\n",
    "    loss='binary_crossentropy',\n",
    "    metrics=['accuracy']\n",
    ")"
   ],
   "id": "94a680dc198e01c2",
   "outputs": [],
   "execution_count": 114
  },
  {
   "metadata": {
    "ExecuteTime": {
     "end_time": "2024-12-17T00:57:52.824312Z",
     "start_time": "2024-12-17T00:57:15.513667Z"
    }
   },
   "cell_type": "code",
   "source": [
    "history = model.fit(\n",
    "    train_dataset,\n",
    "    validation_data=val_dataset,\n",
    "    epochs=20,  # Adjust based on your needs\n",
    "    verbose=1\n",
    ")"
   ],
   "id": "623adfb2d13c72ab",
   "outputs": [
    {
     "name": "stdout",
     "output_type": "stream",
     "text": [
      "Epoch 1/20\n",
      "Processing melody56.mid...\n",
      "Processing melody42.mid...\n",
      "Processing melody43.mid...\n",
      "Processing melody57.mid...\n",
      "Processing melody69.mid...\n",
      "Processing melody41.mid...\n",
      "Processing melody55.mid...\n",
      "Processing melody8.mid...\n",
      "Processing melody9.mid...\n",
      "Processing melody54.mid...\n"
     ]
    },
    {
     "name": "stderr",
     "output_type": "stream",
     "text": [
      "2024-12-16 19:57:25.900450: I tensorflow/core/kernels/data/shuffle_dataset_op.cc:450] ShuffleDatasetV3:323: Filling up shuffle buffer (this may take a while): 694 of 1000\n"
     ]
    },
    {
     "name": "stdout",
     "output_type": "stream",
     "text": [
      "Processing melody40.mid...\n",
      "Processing melody68.mid...\n",
      "Processing melody44.mid...\n",
      "Processing melody50.mid...\n",
      "Processing melody78.mid...\n",
      "Processing melody79.mid...\n",
      "Processing melody51.mid...\n",
      "Processing melody45.mid...\n",
      "Processing melody53.mid...\n",
      "Processing melody47.mid...\n",
      "Processing melody46.mid...\n"
     ]
    },
    {
     "name": "stderr",
     "output_type": "stream",
     "text": [
      "2024-12-16 19:57:29.892906: I tensorflow/core/kernels/data/shuffle_dataset_op.cc:480] Shuffle buffer filled.\n"
     ]
    },
    {
     "name": "stdout",
     "output_type": "stream",
     "text": [
      "Processing melody52.mid...\n",
      "Processing melody35.mid...\n",
      "Processing melody21.mid...\n",
      "Processing melody20.mid...\n",
      "Processing melody34.mid...\n",
      "Processing melody22.mid...\n",
      "Processing melody36.mid...\n",
      "Processing melody37.mid...\n",
      "Processing melody23.mid...\n",
      "Processing melody27.mid...\n",
      "Processing melody33.mid...\n"
     ]
    },
    {
     "name": "stderr",
     "output_type": "stream",
     "text": [
      "2024-12-16 19:57:36.239230: I tensorflow/core/kernels/data/shuffle_dataset_op.cc:450] ShuffleDatasetV3:326: Filling up shuffle buffer (this may take a while): 15 of 10000\n"
     ]
    },
    {
     "name": "stdout",
     "output_type": "stream",
     "text": [
      "Processing melody32.mid...\n",
      "Processing melody26.mid...\n",
      "Processing melody30.mid...\n",
      "Processing melody24.mid...\n",
      "Processing melody18.mid...\n",
      "Processing melody19.mid...\n",
      "Processing melody25.mid...\n",
      "Processing melody31.mid...\n",
      "Processing melody28.mid...\n",
      "Processing melody14.mid...\n",
      "Processing melody15.mid...\n",
      "Processing melody29.mid...\n",
      "Processing melody17.mid...\n",
      "Processing melody16.mid...\n",
      "Processing melody12.mid...\n",
      "Processing melody13.mid...\n",
      "Processing melody11.mid...\n",
      "Processing melody39.mid...\n",
      "Processing melody38.mid...\n",
      "Processing melody10.mid...\n",
      "Processing melody77.mid...\n",
      "Processing melody63.mid...\n",
      "Processing melody2.mid...\n",
      "Processing melody3.mid...\n",
      "Processing melody62.mid...\n",
      "Processing melody76.mid...\n",
      "Processing melody48.mid...\n",
      "Processing melody60.mid...\n",
      "Processing melody74.mid...\n",
      "Processing melody1.mid...\n",
      "Processing melody0.mid...\n",
      "Processing melody75.mid...\n",
      "Processing melody61.mid...\n",
      "Processing melody49.mid...\n",
      "Processing melody65.mid...\n",
      "Processing melody71.mid...\n",
      "Processing melody59.mid...\n",
      "Processing melody4.mid...\n",
      "Processing melody5.mid...\n",
      "Processing melody58.mid...\n",
      "Processing melody70.mid...\n",
      "Processing melody64.mid...\n",
      "Processing melody72.mid...\n",
      "Processing melody66.mid...\n",
      "Processing melody7.mid...\n",
      "Processing melody6.mid...\n",
      "Processing melody67.mid...\n",
      "Processing melody73.mid...\n"
     ]
    },
    {
     "name": "stderr",
     "output_type": "stream",
     "text": [
      "2024-12-16 19:57:52.674433: I tensorflow/core/kernels/data/shuffle_dataset_op.cc:480] Shuffle buffer filled.\n",
      "2024-12-16 19:57:52.808005: I tensorflow/core/framework/local_rendezvous.cc:405] Local rendezvous is aborting with status: INVALID_ARGUMENT: Cannot batch tensors with different shapes in component 0. First element had shape [32,1025,173] and element 12 had shape [11,1025,173].\n",
      "\t [[{{node IteratorGetNext}}]]\n"
     ]
    },
    {
     "ename": "InvalidArgumentError",
     "evalue": "Graph execution error:\n\nDetected at node IteratorGetNext defined at (most recent call last):\n  File \"<frozen runpy>\", line 198, in _run_module_as_main\n\n  File \"<frozen runpy>\", line 88, in _run_code\n\n  File \"/Users/matt/Documents/UVA/AI/MusAI/venv/lib/python3.12/site-packages/ipykernel_launcher.py\", line 18, in <module>\n\n  File \"/Users/matt/Documents/UVA/AI/MusAI/venv/lib/python3.12/site-packages/traitlets/config/application.py\", line 1075, in launch_instance\n\n  File \"/Users/matt/Documents/UVA/AI/MusAI/venv/lib/python3.12/site-packages/ipykernel/kernelapp.py\", line 739, in start\n\n  File \"/Users/matt/Documents/UVA/AI/MusAI/venv/lib/python3.12/site-packages/tornado/platform/asyncio.py\", line 205, in start\n\n  File \"/Users/matt/.pyenv/versions/3.12.4/lib/python3.12/asyncio/base_events.py\", line 641, in run_forever\n\n  File \"/Users/matt/.pyenv/versions/3.12.4/lib/python3.12/asyncio/base_events.py\", line 1987, in _run_once\n\n  File \"/Users/matt/.pyenv/versions/3.12.4/lib/python3.12/asyncio/events.py\", line 88, in _run\n\n  File \"/Users/matt/Documents/UVA/AI/MusAI/venv/lib/python3.12/site-packages/ipykernel/kernelbase.py\", line 545, in dispatch_queue\n\n  File \"/Users/matt/Documents/UVA/AI/MusAI/venv/lib/python3.12/site-packages/ipykernel/kernelbase.py\", line 534, in process_one\n\n  File \"/Users/matt/Documents/UVA/AI/MusAI/venv/lib/python3.12/site-packages/ipykernel/kernelbase.py\", line 437, in dispatch_shell\n\n  File \"/Users/matt/Documents/UVA/AI/MusAI/venv/lib/python3.12/site-packages/ipykernel/ipkernel.py\", line 362, in execute_request\n\n  File \"/Users/matt/Documents/UVA/AI/MusAI/venv/lib/python3.12/site-packages/ipykernel/kernelbase.py\", line 778, in execute_request\n\n  File \"/Users/matt/Documents/UVA/AI/MusAI/venv/lib/python3.12/site-packages/ipykernel/ipkernel.py\", line 449, in do_execute\n\n  File \"/Users/matt/Documents/UVA/AI/MusAI/venv/lib/python3.12/site-packages/ipykernel/zmqshell.py\", line 549, in run_cell\n\n  File \"/Users/matt/Documents/UVA/AI/MusAI/venv/lib/python3.12/site-packages/IPython/core/interactiveshell.py\", line 3075, in run_cell\n\n  File \"/Users/matt/Documents/UVA/AI/MusAI/venv/lib/python3.12/site-packages/IPython/core/interactiveshell.py\", line 3130, in _run_cell\n\n  File \"/Users/matt/Documents/UVA/AI/MusAI/venv/lib/python3.12/site-packages/IPython/core/async_helpers.py\", line 128, in _pseudo_sync_runner\n\n  File \"/Users/matt/Documents/UVA/AI/MusAI/venv/lib/python3.12/site-packages/IPython/core/interactiveshell.py\", line 3334, in run_cell_async\n\n  File \"/Users/matt/Documents/UVA/AI/MusAI/venv/lib/python3.12/site-packages/IPython/core/interactiveshell.py\", line 3517, in run_ast_nodes\n\n  File \"/Users/matt/Documents/UVA/AI/MusAI/venv/lib/python3.12/site-packages/IPython/core/interactiveshell.py\", line 3577, in run_code\n\n  File \"/var/folders/49/bzvjb9qn01dcz7j3n6kbvg6r0000gn/T/ipykernel_28808/125347674.py\", line 1, in <module>\n\n  File \"/Users/matt/Documents/UVA/AI/MusAI/venv/lib/python3.12/site-packages/keras/src/utils/traceback_utils.py\", line 117, in error_handler\n\n  File \"/Users/matt/Documents/UVA/AI/MusAI/venv/lib/python3.12/site-packages/keras/src/backend/tensorflow/trainer.py\", line 368, in fit\n\n  File \"/Users/matt/Documents/UVA/AI/MusAI/venv/lib/python3.12/site-packages/keras/src/backend/tensorflow/trainer.py\", line 216, in function\n\n  File \"/Users/matt/Documents/UVA/AI/MusAI/venv/lib/python3.12/site-packages/keras/src/backend/tensorflow/trainer.py\", line 129, in multi_step_on_iterator\n\nCannot batch tensors with different shapes in component 0. First element had shape [32,1025,173] and element 12 had shape [11,1025,173].\n\t [[{{node IteratorGetNext}}]] [Op:__inference_multi_step_on_iterator_19729]",
     "output_type": "error",
     "traceback": [
      "\u001B[0;31m---------------------------------------------------------------------------\u001B[0m",
      "\u001B[0;31mInvalidArgumentError\u001B[0m                      Traceback (most recent call last)",
      "Cell \u001B[0;32mIn[115], line 1\u001B[0m\n\u001B[0;32m----> 1\u001B[0m history \u001B[38;5;241m=\u001B[39m \u001B[43mmodel\u001B[49m\u001B[38;5;241;43m.\u001B[39;49m\u001B[43mfit\u001B[49m\u001B[43m(\u001B[49m\n\u001B[1;32m      2\u001B[0m \u001B[43m    \u001B[49m\u001B[43mtrain_dataset\u001B[49m\u001B[43m,\u001B[49m\n\u001B[1;32m      3\u001B[0m \u001B[43m    \u001B[49m\u001B[43mvalidation_data\u001B[49m\u001B[38;5;241;43m=\u001B[39;49m\u001B[43mval_dataset\u001B[49m\u001B[43m,\u001B[49m\n\u001B[1;32m      4\u001B[0m \u001B[43m    \u001B[49m\u001B[43mepochs\u001B[49m\u001B[38;5;241;43m=\u001B[39;49m\u001B[38;5;241;43m20\u001B[39;49m\u001B[43m,\u001B[49m\u001B[43m  \u001B[49m\u001B[38;5;66;43;03m# Adjust based on your needs\u001B[39;49;00m\n\u001B[1;32m      5\u001B[0m \u001B[43m    \u001B[49m\u001B[43mverbose\u001B[49m\u001B[38;5;241;43m=\u001B[39;49m\u001B[38;5;241;43m1\u001B[39;49m\n\u001B[1;32m      6\u001B[0m \u001B[43m)\u001B[49m\n",
      "File \u001B[0;32m~/Documents/UVA/AI/MusAI/venv/lib/python3.12/site-packages/keras/src/utils/traceback_utils.py:122\u001B[0m, in \u001B[0;36mfilter_traceback.<locals>.error_handler\u001B[0;34m(*args, **kwargs)\u001B[0m\n\u001B[1;32m    119\u001B[0m     filtered_tb \u001B[38;5;241m=\u001B[39m _process_traceback_frames(e\u001B[38;5;241m.\u001B[39m__traceback__)\n\u001B[1;32m    120\u001B[0m     \u001B[38;5;66;03m# To get the full stack trace, call:\u001B[39;00m\n\u001B[1;32m    121\u001B[0m     \u001B[38;5;66;03m# `keras.config.disable_traceback_filtering()`\u001B[39;00m\n\u001B[0;32m--> 122\u001B[0m     \u001B[38;5;28;01mraise\u001B[39;00m e\u001B[38;5;241m.\u001B[39mwith_traceback(filtered_tb) \u001B[38;5;28;01mfrom\u001B[39;00m \u001B[38;5;28;01mNone\u001B[39;00m\n\u001B[1;32m    123\u001B[0m \u001B[38;5;28;01mfinally\u001B[39;00m:\n\u001B[1;32m    124\u001B[0m     \u001B[38;5;28;01mdel\u001B[39;00m filtered_tb\n",
      "File \u001B[0;32m~/Documents/UVA/AI/MusAI/venv/lib/python3.12/site-packages/tensorflow/python/eager/execute.py:53\u001B[0m, in \u001B[0;36mquick_execute\u001B[0;34m(op_name, num_outputs, inputs, attrs, ctx, name)\u001B[0m\n\u001B[1;32m     51\u001B[0m \u001B[38;5;28;01mtry\u001B[39;00m:\n\u001B[1;32m     52\u001B[0m   ctx\u001B[38;5;241m.\u001B[39mensure_initialized()\n\u001B[0;32m---> 53\u001B[0m   tensors \u001B[38;5;241m=\u001B[39m pywrap_tfe\u001B[38;5;241m.\u001B[39mTFE_Py_Execute(ctx\u001B[38;5;241m.\u001B[39m_handle, device_name, op_name,\n\u001B[1;32m     54\u001B[0m                                       inputs, attrs, num_outputs)\n\u001B[1;32m     55\u001B[0m \u001B[38;5;28;01mexcept\u001B[39;00m core\u001B[38;5;241m.\u001B[39m_NotOkStatusException \u001B[38;5;28;01mas\u001B[39;00m e:\n\u001B[1;32m     56\u001B[0m   \u001B[38;5;28;01mif\u001B[39;00m name \u001B[38;5;129;01mis\u001B[39;00m \u001B[38;5;129;01mnot\u001B[39;00m \u001B[38;5;28;01mNone\u001B[39;00m:\n",
      "\u001B[0;31mInvalidArgumentError\u001B[0m: Graph execution error:\n\nDetected at node IteratorGetNext defined at (most recent call last):\n  File \"<frozen runpy>\", line 198, in _run_module_as_main\n\n  File \"<frozen runpy>\", line 88, in _run_code\n\n  File \"/Users/matt/Documents/UVA/AI/MusAI/venv/lib/python3.12/site-packages/ipykernel_launcher.py\", line 18, in <module>\n\n  File \"/Users/matt/Documents/UVA/AI/MusAI/venv/lib/python3.12/site-packages/traitlets/config/application.py\", line 1075, in launch_instance\n\n  File \"/Users/matt/Documents/UVA/AI/MusAI/venv/lib/python3.12/site-packages/ipykernel/kernelapp.py\", line 739, in start\n\n  File \"/Users/matt/Documents/UVA/AI/MusAI/venv/lib/python3.12/site-packages/tornado/platform/asyncio.py\", line 205, in start\n\n  File \"/Users/matt/.pyenv/versions/3.12.4/lib/python3.12/asyncio/base_events.py\", line 641, in run_forever\n\n  File \"/Users/matt/.pyenv/versions/3.12.4/lib/python3.12/asyncio/base_events.py\", line 1987, in _run_once\n\n  File \"/Users/matt/.pyenv/versions/3.12.4/lib/python3.12/asyncio/events.py\", line 88, in _run\n\n  File \"/Users/matt/Documents/UVA/AI/MusAI/venv/lib/python3.12/site-packages/ipykernel/kernelbase.py\", line 545, in dispatch_queue\n\n  File \"/Users/matt/Documents/UVA/AI/MusAI/venv/lib/python3.12/site-packages/ipykernel/kernelbase.py\", line 534, in process_one\n\n  File \"/Users/matt/Documents/UVA/AI/MusAI/venv/lib/python3.12/site-packages/ipykernel/kernelbase.py\", line 437, in dispatch_shell\n\n  File \"/Users/matt/Documents/UVA/AI/MusAI/venv/lib/python3.12/site-packages/ipykernel/ipkernel.py\", line 362, in execute_request\n\n  File \"/Users/matt/Documents/UVA/AI/MusAI/venv/lib/python3.12/site-packages/ipykernel/kernelbase.py\", line 778, in execute_request\n\n  File \"/Users/matt/Documents/UVA/AI/MusAI/venv/lib/python3.12/site-packages/ipykernel/ipkernel.py\", line 449, in do_execute\n\n  File \"/Users/matt/Documents/UVA/AI/MusAI/venv/lib/python3.12/site-packages/ipykernel/zmqshell.py\", line 549, in run_cell\n\n  File \"/Users/matt/Documents/UVA/AI/MusAI/venv/lib/python3.12/site-packages/IPython/core/interactiveshell.py\", line 3075, in run_cell\n\n  File \"/Users/matt/Documents/UVA/AI/MusAI/venv/lib/python3.12/site-packages/IPython/core/interactiveshell.py\", line 3130, in _run_cell\n\n  File \"/Users/matt/Documents/UVA/AI/MusAI/venv/lib/python3.12/site-packages/IPython/core/async_helpers.py\", line 128, in _pseudo_sync_runner\n\n  File \"/Users/matt/Documents/UVA/AI/MusAI/venv/lib/python3.12/site-packages/IPython/core/interactiveshell.py\", line 3334, in run_cell_async\n\n  File \"/Users/matt/Documents/UVA/AI/MusAI/venv/lib/python3.12/site-packages/IPython/core/interactiveshell.py\", line 3517, in run_ast_nodes\n\n  File \"/Users/matt/Documents/UVA/AI/MusAI/venv/lib/python3.12/site-packages/IPython/core/interactiveshell.py\", line 3577, in run_code\n\n  File \"/var/folders/49/bzvjb9qn01dcz7j3n6kbvg6r0000gn/T/ipykernel_28808/125347674.py\", line 1, in <module>\n\n  File \"/Users/matt/Documents/UVA/AI/MusAI/venv/lib/python3.12/site-packages/keras/src/utils/traceback_utils.py\", line 117, in error_handler\n\n  File \"/Users/matt/Documents/UVA/AI/MusAI/venv/lib/python3.12/site-packages/keras/src/backend/tensorflow/trainer.py\", line 368, in fit\n\n  File \"/Users/matt/Documents/UVA/AI/MusAI/venv/lib/python3.12/site-packages/keras/src/backend/tensorflow/trainer.py\", line 216, in function\n\n  File \"/Users/matt/Documents/UVA/AI/MusAI/venv/lib/python3.12/site-packages/keras/src/backend/tensorflow/trainer.py\", line 129, in multi_step_on_iterator\n\nCannot batch tensors with different shapes in component 0. First element had shape [32,1025,173] and element 12 had shape [11,1025,173].\n\t [[{{node IteratorGetNext}}]] [Op:__inference_multi_step_on_iterator_19729]"
     ]
    }
   ],
   "execution_count": 115
  }
 ],
 "metadata": {
  "kernelspec": {
   "display_name": "Python 3",
   "language": "python",
   "name": "python3"
  },
  "language_info": {
   "codemirror_mode": {
    "name": "ipython",
    "version": 2
   },
   "file_extension": ".py",
   "mimetype": "text/x-python",
   "name": "python",
   "nbconvert_exporter": "python",
   "pygments_lexer": "ipython2",
   "version": "2.7.6"
  }
 },
 "nbformat": 4,
 "nbformat_minor": 5
}
