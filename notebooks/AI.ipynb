{
  "cells": [
    {
      "cell_type": "code",
      "execution_count": null,
      "metadata": {
        "id": "lE1fZCt1bn_U"
      },
      "outputs": [],
      "source": [
        "import importlib\n",
        "import scripts\n",
        "importlib.reload(scripts.dataset_generator)\n",
        "from scripts.dataset_generator import *\n"
      ]
    },
    {
      "cell_type": "code",
      "execution_count": null,
      "metadata": {
        "id": "JgJNEfQZbtbL"
      },
      "outputs": [],
      "source": [
        "dataset = create_tf_dataset('../data/extracted_stems/MIDI')\n",
        "print(dataset)"
      ]
    },
    {
      "cell_type": "code",
      "execution_count": null,
      "metadata": {},
      "outputs": [],
      "source": []
    }
  ],
  "metadata": {
    "colab": {
      "provenance": []
    },
    "kernelspec": {
      "display_name": "Python 3",
      "name": "python3"
    },
    "language_info": {
      "name": "python"
    }
  },
  "nbformat": 4,
  "nbformat_minor": 0
}
