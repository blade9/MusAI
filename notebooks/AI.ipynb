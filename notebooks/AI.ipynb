{
  "cells": [
    {
      "cell_type": "code",
      "execution_count": null,
      "metadata": {
        "id": "lE1fZCt1bn_U"
      },
      "outputs": [],
      "source": [
        "import importlib\n",
        "import scripts\n",
        "importlib.reload(scripts.dataset_generator)\n",
        "from scripts.dataset_generator import *\n"
      ]
    },
    {
      "cell_type": "code",
      "execution_count": null,
      "metadata": {
        "id": "JgJNEfQZbtbL"
      },
      "outputs": [],
      "source": [
        "dataset = create_tf_dataset('../data/extracted_stems/MIDI')\n",
        "print(dataset)"
      ]
    },
    {
      "cell_type": "code",
      "execution_count": null,
      "metadata": {},
      "outputs": [],
      "source": [
        "total_samples = 10000  # Replace with the actual count\n",
        "train_size = int(0.7 * total_samples)\n",
        "val_size = int(0.15 * total_samples)\n",
        "test_size = total_samples - train_size - val_size\n",
        "batch_size = 32"
      ]
    },
    {
      "cell_type": "code",
      "execution_count": null,
      "metadata": {},
      "outputs": [],
      "source": [
        "dataset = dataset.shuffle(buffer_size=10000, reshuffle_each_iteration=False)\n",
        "\n",
        "train_dataset = dataset.take(train_size)\n",
        "val_dataset = dataset.skip(train_size).take(val_size)\n",
        "test_dataset = dataset.skip(train_size + val_size).take(test_size)\n",
        "\n",
        "train_dataset = train_dataset.repeat().batch(batch_size, drop_remainder=True).prefetch(tf.data.AUTOTUNE)\n",
        "val_dataset = val_dataset.repeat().batch(batch_size, drop_remainder=True).prefetch(tf.data.AUTOTUNE)\n",
        "test_dataset = test_dataset.repeat().batch(batch_size, drop_remainder=True).prefetch(tf.data.AUTOTUNE)"
      ]
    },
    {
      "cell_type": "code",
      "execution_count": null,
      "metadata": {},
      "outputs": [],
      "source": [
        "from models.pitch_classifier import build_pitch_classifier_cnn\n",
        "\n",
        "model = build_pitch_classifier_cnn()\n",
        "model.compile(\n",
        "    optimizer=tf.keras.optimizers.Adam(learning_rate=0.001),\n",
        "    loss='binary_crossentropy',\n",
        "    metrics=['accuracy']\n",
        ")"
      ]
    },
    {
      "cell_type": "code",
      "execution_count": null,
      "metadata": {},
      "outputs": [],
      "source": [
        "history = model.fit(\n",
        "    train_dataset,\n",
        "    validation_data=val_dataset,\n",
        "    epochs=10,  # Adjust based on your needs\n",
        "    verbose=1\n",
        ")"
      ]
    }
  ],
  "metadata": {
    "colab": {
      "provenance": []
    },
    "kernelspec": {
      "display_name": "Python 3",
      "name": "python3"
    },
    "language_info": {
      "name": "python"
    }
  },
  "nbformat": 4,
  "nbformat_minor": 0
}
